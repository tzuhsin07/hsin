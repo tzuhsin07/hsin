{
 "cells": [
  {
   "cell_type": "markdown",
   "id": "3940a91b",
   "metadata": {},
   "source": [
    "# FOR 迴圈使用"
   ]
  },
  {
   "cell_type": "code",
   "execution_count": 9,
   "id": "bb239450",
   "metadata": {},
   "outputs": [
    {
     "name": "stdout",
     "output_type": "stream",
     "text": [
      "10\n",
      "9\n",
      "8\n",
      "7\n",
      "6\n",
      "5\n",
      "4\n",
      "3\n",
      "2\n",
      "1\n",
      "1\n",
      "2\n",
      "3\n",
      "4\n",
      "-\n",
      "5\n",
      "6\n",
      "7\n",
      "8\n",
      "-\n",
      "0\n",
      "1\n",
      "2\n",
      "-\n",
      "1\n",
      "2\n",
      "3\n",
      "4\n",
      "1\n",
      "2\n",
      "3\n",
      "4\n",
      "-\n",
      "5\n",
      "6\n",
      "7\n",
      "8\n",
      "-\n"
     ]
    }
   ],
   "source": [
    "#Range使用 \n",
    "for y in reversed(range(1,11)):#倒數\n",
    "    print(y)\n",
    "#break,continue使用\n",
    "credit_card=\"1234-5678-9012-1234\"\n",
    "for w in credit_card:\n",
    "    if w==\"9\":\n",
    "        continue #9會消失\n",
    "    else:\n",
    "        print(w)\n",
    "for z in credit_card:\n",
    "    if z==\"9\":\n",
    "        break #9以後終止迴圈\n",
    "    else:\n",
    "        print(z)"
   ]
  },
  {
   "cell_type": "code",
   "execution_count": 13,
   "id": "be43269b",
   "metadata": {},
   "outputs": [
    {
     "name": "stdout",
     "output_type": "stream",
     "text": [
      "a\n",
      "b\n",
      "c\n",
      "key: a\n",
      "value: 1\n",
      "key: b\n",
      "value: 2\n",
      "key: c\n",
      "value: 3\n"
     ]
    }
   ],
   "source": [
    "#字典({\"key\":value})應用\n",
    "dict={\"a\":1,\"b\":2,\"c\":3}\n",
    "for x in dict:\n",
    "    print(x)#只出現key\n",
    "for key,value in dict.items():\n",
    "    print(\"key:\",key)\n",
    "    print(\"value:\",value)\n",
    "    "
   ]
  },
  {
   "cell_type": "markdown",
   "id": "649215aa",
   "metadata": {},
   "source": [
    "# 巢狀迴圈"
   ]
  },
  {
   "cell_type": "code",
   "execution_count": 19,
   "id": "d4025e43",
   "metadata": {},
   "outputs": [
    {
     "name": "stdout",
     "output_type": "stream",
     "text": [
      "1 11 輸入行數:3\n",
      "輸入列數:4\n",
      "輸入符號:$\n",
      "$ $ $ $ \n",
      "$ $ $ $ \n",
      "$ $ $ $ \n"
     ]
    }
   ],
   "source": [
    "for x in (1,11):\n",
    "    print(x,end=\" \") #print結尾用空格取代換行\n",
    "#巢狀迴圈應用\n",
    "rows=int(input(\"輸入行數:\"))\n",
    "cols=int(input(\"輸入列數:\"))\n",
    "symbol=input(\"輸入符號:\")\n",
    "\n",
    "for z in range(rows):\n",
    "    for i in range(cols):\n",
    "        print(symbol,end=\" \")\n",
    "    print()"
   ]
  },
  {
   "cell_type": "markdown",
   "id": "f3edff56",
   "metadata": {},
   "source": [
    "# list,set,tuple應用"
   ]
  },
  {
   "cell_type": "code",
   "execution_count": 24,
   "id": "a98f565b",
   "metadata": {},
   "outputs": [
    {
     "name": "stdout",
     "output_type": "stream",
     "text": [
      "香蕉\n",
      "['蘋果', '香蕉', '芭樂', '番茄']\n",
      "1\n",
      "3\n"
     ]
    }
   ],
   "source": [
    "#list列表\n",
    "fruit=[\"蘋果\",\"香蕉\",\"芭樂\"]\n",
    "print(fruit[1])\n",
    "fruit.append(\"番茄\")#加入\n",
    "print(fruit)\n",
    "fruit.remove(\"芭樂\") #移除\n",
    "print(fruit.index(\"香蕉\"))\n",
    "fruit.append(\"番茄\")\n",
    "fruit.append(\"番茄\")\n",
    "print(fruit.count(\"番茄\"))"
   ]
  },
  {
   "cell_type": "code",
   "execution_count": 25,
   "id": "22c9302d",
   "metadata": {},
   "outputs": [
    {
     "name": "stdout",
     "output_type": "stream",
     "text": [
      "{'蘋果', '香蕉', '西瓜'}\n"
     ]
    }
   ],
   "source": [
    "#set \n",
    "fruit_set={\"蘋果\",\"香蕉\",\"西瓜\"}\n",
    "fruit_set.add(\"西瓜\") #不會重複\n",
    "print(fruit_set)"
   ]
  },
  {
   "cell_type": "code",
   "execution_count": 29,
   "id": "eb3fb9c5",
   "metadata": {},
   "outputs": [
    {
     "name": "stdout",
     "output_type": "stream",
     "text": [
      "2\n",
      "1\n"
     ]
    }
   ],
   "source": [
    "#tuple 元組\n",
    "fruit_tuple=(\"蘋果\",\"香蕉\",\"西瓜\",\"蘋果\")\n",
    "result = fruit_tuple.count(\"蘋果\")\n",
    "print(result)\n",
    "result2 = fruit_tuple.index(\"香蕉\")\n",
    "print(result2)\n",
    "fruit_tuple.add(\"柳橙\") #tuple不能對原著作任何更改"
   ]
  },
  {
   "cell_type": "code",
   "execution_count": 36,
   "id": "11df0d90",
   "metadata": {},
   "outputs": [
    {
     "name": "stdout",
     "output_type": "stream",
     "text": [
      "輸入物品apple\n",
      "輸入apple的價格12\n",
      "輸入物品water\n",
      "輸入water的價格34\n",
      "輸入物品q\n",
      "第1 商品為apple,價格為12.0\n",
      "第2 商品為water,價格為34.0\n"
     ]
    }
   ],
   "source": [
    "prices=[] #建立列表\n",
    "goods=[]\n",
    "#無窮迴圈\n",
    "while True:\n",
    "    good=input(\"輸入物品\")\n",
    "    if good.lower()==\"q\" : #大小寫q\n",
    "        break\n",
    "    price=float(input(f\"輸入{good}的價格\"))\n",
    "    goods.append(good)\n",
    "    prices.append(price)\n",
    "\n",
    "#同時取得索引和值 enumerate\n",
    "for index,good in enumerate (goods): \n",
    "    print(f\"第{index + 1} 商品為{good},價格為{prices[index]}\")"
   ]
  },
  {
   "cell_type": "markdown",
   "id": "7f6572e3",
   "metadata": {},
   "source": [
    "# 字典 (key=> value)"
   ]
  },
  {
   "cell_type": "code",
   "execution_count": 46,
   "id": "fffec2de",
   "metadata": {},
   "outputs": [
    {
     "name": "stdout",
     "output_type": "stream",
     "text": [
      "Tokyo\n",
      "{'United States': 'Washington DC', 'Japen': 'Tokyo', 'Germany': 'Berlin'}\n",
      "dict_values(['Washington DC', 'Tokyo', 'Berlin'])\n",
      "dict_items([('United States', 'Washington DC'), ('Japen', 'Tokyo'), ('Germany', 'Berlin')])\n"
     ]
    }
   ],
   "source": [
    "#建立字典\n",
    "capital ={\n",
    "    \"United States\":\"Washington DC\",\n",
    "    \"Japen\":\"Tokyo\",\n",
    "    \"France\":\"Paris\"\n",
    "}\n",
    "#get()取得鍵值對\n",
    "print(capital.get(\"Japen\"))\n",
    "#update()加入\n",
    "capital.update({\"Germany\":\"Berlin\"})\n",
    "#pop()刪除\n",
    "capital.pop(\"France\")\n",
    "print(capital)\n",
    "#value()獲得所有值\n",
    "print(capital.values())\n",
    "#item()獲得所有鍵值對\n",
    "print(capital.items())"
   ]
  },
  {
   "cell_type": "code",
   "execution_count": 5,
   "id": "fc38a372",
   "metadata": {},
   "outputs": [
    {
     "name": "stdout",
     "output_type": "stream",
     "text": [
      "菜單\n",
      "pizza:120\n",
      "apple:30\n",
      "bananas:45\n",
      "water:20\n",
      "burger:130\n",
      "請輸入一個菜單選項(輸入q代表結束)pizza\n",
      "pizza 請輸入一個菜單選項(輸入q代表結束)q\n",
      "總共:120元\n"
     ]
    }
   ],
   "source": [
    "#販賣機練習\n",
    "menu = {\n",
    "    \"pizza\":120,\n",
    "    \"apple\":30,\n",
    "    \"bananas\":45,\n",
    "    \"water\":20,\n",
    "    \"burger\":130,\n",
    "}\n",
    "cart=[]\n",
    "total=0\n",
    "print(\"菜單\")\n",
    "\n",
    "for item,price in menu.items():\n",
    "    print(f\"{item}:{price}\")\n",
    "while True:\n",
    "    food = input(\"請輸入一個菜單選項(輸入q代表結束)\")\n",
    "    if food==\"q\":\n",
    "        break\n",
    "    elif menu.get(food) is None :\n",
    "        print(\"商品不存在\")\n",
    "    else:\n",
    "            cart.append(food)\n",
    "            total += menu.get(food) #total=total+menu.get(food)\n",
    "            \n",
    "            print(food,end=\" \")\n",
    "print(f\"總共:{total}元\")\n"
   ]
  },
  {
   "cell_type": "markdown",
   "id": "131a51a4",
   "metadata": {},
   "source": [
    "# Random 應用"
   ]
  },
  {
   "cell_type": "code",
   "execution_count": 11,
   "id": "b1d930c1",
   "metadata": {},
   "outputs": [
    {
     "name": "stdout",
     "output_type": "stream",
     "text": [
      "1\n",
      "布\n",
      "['5', '4', '6', '2', '3']\n"
     ]
    }
   ],
   "source": [
    "import random\n",
    "#randint()\n",
    "print(random.randint(1,10))\n",
    "\n",
    "#列表隨機選一個數\n",
    "option=[\"剪刀\",\"石頭\",\"布\"]\n",
    "random_option=random.choice(option)\n",
    "print(random_option)\n",
    "\n",
    "#打亂列表 shuffle\n",
    "cards = [\"2\",\"3\",\"4\",\"5\",\"6\"]\n",
    "random.shuffle(cards)\n",
    "print(cards)"
   ]
  },
  {
   "cell_type": "code",
   "execution_count": 13,
   "id": "3db772c0",
   "metadata": {},
   "outputs": [
    {
     "name": "stdout",
     "output_type": "stream",
     "text": [
      "輸入1-100的值:50\n",
      "輸入的數太小\n",
      "輸入1-100的值:60\n",
      "輸入的數太大\n",
      "輸入1-100的值:55\n",
      "輸入的數太大\n",
      "輸入1-100的值:54\n",
      "輸入的數太大\n",
      "輸入1-100的值:53\n",
      "答對了,總共猜了5次,且數字為53\n"
     ]
    }
   ],
   "source": [
    "#猜數字遊戲\n",
    "\n",
    "import random\n",
    "\n",
    "low=1\n",
    "high=100\n",
    "number=random.randint(low,high)\n",
    "guesses=0\n",
    "\n",
    "while True:\n",
    "    guess=int(input(f\"輸入1-100的值:\"))\n",
    "    guesses+=1\n",
    "    if guess<number :\n",
    "        print(\"輸入的數太小\")\n",
    "    elif guess>number :\n",
    "        print(\"輸入的數太大\")\n",
    "    else:\n",
    "        print(f\"答對了,總共猜了{guesses}次,且數字為{number}\")\n",
    "        break\n"
   ]
  },
  {
   "cell_type": "markdown",
   "id": "cfdf6747",
   "metadata": {},
   "source": [
    "# Function 函數"
   ]
  },
  {
   "cell_type": "code",
   "execution_count": 17,
   "id": "17bcbcd0",
   "metadata": {},
   "outputs": [
    {
     "name": "stdout",
     "output_type": "stream",
     "text": [
      "hello\n",
      "hello\n",
      "hello\n",
      "你好,Ben\n",
      "7\n",
      "John Wick\n"
     ]
    }
   ],
   "source": [
    "def say_hello():\n",
    "    print(\"hello\")\n",
    "say_hello()\n",
    "say_hello()\n",
    "say_hello()#顯示三次\n",
    "\n",
    "#傳遞函數\n",
    "def greeting(name):\n",
    "    print(f\"你好,{name}\")\n",
    "greeting(\"Ben\")\n",
    "\n",
    "#RETURN 將結果調回\n",
    "def add(x,y):\n",
    "    return x+y\n",
    "result=add(3,4)\n",
    "print(result)\n",
    "\n",
    "def name(first,last):\n",
    "    first=first.capitalize()\n",
    "    last=last.capitalize()\n",
    "    return first+\" \"+last\n",
    "print(name(\"john\",\"wick\"))"
   ]
  },
  {
   "cell_type": "code",
   "execution_count": 20,
   "id": "ea09615f",
   "metadata": {},
   "outputs": [
    {
     "name": "stdout",
     "output_type": "stream",
     "text": [
      "hello,Hsin\n",
      "hello,Sydeny\n"
     ]
    }
   ],
   "source": [
    "#預設函數\n",
    "def greet(name,greeting=\"hello\"):\n",
    "    print(f\"{greeting},{name}\")\n",
    "greet(\"Hsin\")\n",
    "greet(\"Sydeny\")"
   ]
  },
  {
   "cell_type": "markdown",
   "id": "ede540ec",
   "metadata": {},
   "source": [
    "# Args,Kwargs 應用"
   ]
  },
  {
   "cell_type": "code",
   "execution_count": 25,
   "id": "08c481db",
   "metadata": {},
   "outputs": [
    {
     "name": "stdout",
     "output_type": "stream",
     "text": [
      "arg:1\n",
      "arg:2\n",
      "arg:3\n",
      "6\n",
      "key:name value:Hsin\n",
      "key:age value:19\n",
      "key:occupation value:student\n"
     ]
    }
   ],
   "source": [
    "#Args=>arguments 處理任意數量的參數 * =>tuple\n",
    "def add(*args):\n",
    "    total=0\n",
    "    for arg in args:\n",
    "        print(f\"arg:{arg}\")\n",
    "        total+=arg\n",
    "    return total\n",
    "print(add(1,2,3))\n",
    "    \n",
    "#Kwargs=>關鍵字+arge(keyword args) ** =>diction\n",
    "def print_info(**kwargs):\n",
    "    for key,value in kwargs.items():\n",
    "        print(f\"key:{key} value:{value}\")\n",
    "print_info(name=\"Hsin\",age=\"19\",occupation=\"student\")\n",
    "    \n"
   ]
  },
  {
   "cell_type": "code",
   "execution_count": null,
   "id": "2e015dac",
   "metadata": {},
   "outputs": [],
   "source": []
  }
 ],
 "metadata": {
  "kernelspec": {
   "display_name": "Python 3 (ipykernel)",
   "language": "python",
   "name": "python3"
  },
  "language_info": {
   "codemirror_mode": {
    "name": "ipython",
    "version": 3
   },
   "file_extension": ".py",
   "mimetype": "text/x-python",
   "name": "python",
   "nbconvert_exporter": "python",
   "pygments_lexer": "ipython3",
   "version": "3.9.12"
  }
 },
 "nbformat": 4,
 "nbformat_minor": 5
}
