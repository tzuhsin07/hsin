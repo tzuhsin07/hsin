{
 "cells": [
  {
   "cell_type": "markdown",
   "id": "3940a91b",
   "metadata": {},
   "source": [
    "# FOR 迴圈使用"
   ]
  },
  {
   "cell_type": "code",
   "execution_count": 9,
   "id": "bb239450",
   "metadata": {},
   "outputs": [
    {
     "name": "stdout",
     "output_type": "stream",
     "text": [
      "10\n",
      "9\n",
      "8\n",
      "7\n",
      "6\n",
      "5\n",
      "4\n",
      "3\n",
      "2\n",
      "1\n",
      "1\n",
      "2\n",
      "3\n",
      "4\n",
      "-\n",
      "5\n",
      "6\n",
      "7\n",
      "8\n",
      "-\n",
      "0\n",
      "1\n",
      "2\n",
      "-\n",
      "1\n",
      "2\n",
      "3\n",
      "4\n",
      "1\n",
      "2\n",
      "3\n",
      "4\n",
      "-\n",
      "5\n",
      "6\n",
      "7\n",
      "8\n",
      "-\n"
     ]
    }
   ],
   "source": [
    "#Range使用 \n",
    "for y in reversed(range(1,11)):#倒數\n",
    "    print(y)\n",
    "#break,continue使用\n",
    "credit_card=\"1234-5678-9012-1234\"\n",
    "for w in credit_card:\n",
    "    if w==\"9\":\n",
    "        continue #9會消失\n",
    "    else:\n",
    "        print(w)\n",
    "for z in credit_card:\n",
    "    if z==\"9\":\n",
    "        break #9以後終止迴圈\n",
    "    else:\n",
    "        print(z)"
   ]
  },
  {
   "cell_type": "code",
   "execution_count": 13,
   "id": "be43269b",
   "metadata": {},
   "outputs": [
    {
     "name": "stdout",
     "output_type": "stream",
     "text": [
      "a\n",
      "b\n",
      "c\n",
      "key: a\n",
      "value: 1\n",
      "key: b\n",
      "value: 2\n",
      "key: c\n",
      "value: 3\n"
     ]
    }
   ],
   "source": [
    "#字典({\"key\":value})應用\n",
    "dict={\"a\":1,\"b\":2,\"c\":3}\n",
    "for x in dict:\n",
    "    print(x)#只出現key\n",
    "for key,value in dict.items():\n",
    "    print(\"key:\",key)\n",
    "    print(\"value:\",value)\n",
    "    "
   ]
  },
  {
   "cell_type": "markdown",
   "id": "649215aa",
   "metadata": {},
   "source": [
    "# 巢狀迴圈"
   ]
  },
  {
   "cell_type": "code",
   "execution_count": 19,
   "id": "d4025e43",
   "metadata": {},
   "outputs": [
    {
     "name": "stdout",
     "output_type": "stream",
     "text": [
      "1 11 輸入行數:3\n",
      "輸入列數:4\n",
      "輸入符號:$\n",
      "$ $ $ $ \n",
      "$ $ $ $ \n",
      "$ $ $ $ \n"
     ]
    }
   ],
   "source": [
    "for x in (1,11):\n",
    "    print(x,end=\" \") #print結尾用空格取代換行\n",
    "#巢狀迴圈應用\n",
    "rows=int(input(\"輸入行數:\"))\n",
    "cols=int(input(\"輸入列數:\"))\n",
    "symbol=input(\"輸入符號:\")\n",
    "\n",
    "for z in range(rows):\n",
    "    for i in range(cols):\n",
    "        print(symbol,end=\" \")\n",
    "    print()"
   ]
  },
  {
   "cell_type": "markdown",
   "id": "f3edff56",
   "metadata": {},
   "source": [
    "# list,set,tuple應用"
   ]
  },
  {
   "cell_type": "code",
   "execution_count": 24,
   "id": "a98f565b",
   "metadata": {},
   "outputs": [
    {
     "name": "stdout",
     "output_type": "stream",
     "text": [
      "香蕉\n",
      "['蘋果', '香蕉', '芭樂', '番茄']\n",
      "1\n",
      "3\n"
     ]
    }
   ],
   "source": [
    "#list列表\n",
    "fruit=[\"蘋果\",\"香蕉\",\"芭樂\"]\n",
    "print(fruit[1])\n",
    "fruit.append(\"番茄\")#加入\n",
    "print(fruit)\n",
    "fruit.remove(\"芭樂\") #移除\n",
    "print(fruit.index(\"香蕉\"))\n",
    "fruit.append(\"番茄\")\n",
    "fruit.append(\"番茄\")\n",
    "print(fruit.count(\"番茄\"))"
   ]
  },
  {
   "cell_type": "code",
   "execution_count": 25,
   "id": "22c9302d",
   "metadata": {},
   "outputs": [
    {
     "name": "stdout",
     "output_type": "stream",
     "text": [
      "{'蘋果', '香蕉', '西瓜'}\n"
     ]
    }
   ],
   "source": [
    "#set \n",
    "fruit_set={\"蘋果\",\"香蕉\",\"西瓜\"}\n",
    "fruit_set.add(\"西瓜\") #不會重複\n",
    "print(fruit_set)"
   ]
  },
  {
   "cell_type": "code",
   "execution_count": 29,
   "id": "eb3fb9c5",
   "metadata": {},
   "outputs": [
    {
     "name": "stdout",
     "output_type": "stream",
     "text": [
      "2\n",
      "1\n"
     ]
    }
   ],
   "source": [
    "#tuple 元組\n",
    "fruit_tuple=(\"蘋果\",\"香蕉\",\"西瓜\",\"蘋果\")\n",
    "result = fruit_tuple.count(\"蘋果\")\n",
    "print(result)\n",
    "result2 = fruit_tuple.index(\"香蕉\")\n",
    "print(result2)\n",
    "fruit_tuple.add(\"柳橙\") #tuple不能對原著作任何更改"
   ]
  },
  {
   "cell_type": "code",
   "execution_count": 36,
   "id": "11df0d90",
   "metadata": {},
   "outputs": [
    {
     "name": "stdout",
     "output_type": "stream",
     "text": [
      "輸入物品apple\n",
      "輸入apple的價格12\n",
      "輸入物品water\n",
      "輸入water的價格34\n",
      "輸入物品q\n",
      "第1 商品為apple,價格為12.0\n",
      "第2 商品為water,價格為34.0\n"
     ]
    }
   ],
   "source": [
    "prices=[] #建立列表\n",
    "goods=[]\n",
    "#無窮迴圈\n",
    "while True:\n",
    "    good=input(\"輸入物品\")\n",
    "    if good.lower()==\"q\" : #大小寫q\n",
    "        break\n",
    "    price=float(input(f\"輸入{good}的價格\"))\n",
    "    goods.append(good)\n",
    "    prices.append(price)\n",
    "\n",
    "#同時取得索引和值 enumerate\n",
    "for index,good in enumerate (goods): \n",
    "    print(f\"第{index + 1} 商品為{good},價格為{prices[index]}\")"
   ]
  },
  {
   "cell_type": "markdown",
   "id": "7f6572e3",
   "metadata": {},
   "source": [
    "# 字典 (key=> value)"
   ]
  },
  {
   "cell_type": "code",
   "execution_count": 46,
   "id": "fffec2de",
   "metadata": {},
   "outputs": [
    {
     "name": "stdout",
     "output_type": "stream",
     "text": [
      "Tokyo\n",
      "{'United States': 'Washington DC', 'Japen': 'Tokyo', 'Germany': 'Berlin'}\n",
      "dict_values(['Washington DC', 'Tokyo', 'Berlin'])\n",
      "dict_items([('United States', 'Washington DC'), ('Japen', 'Tokyo'), ('Germany', 'Berlin')])\n"
     ]
    }
   ],
   "source": [
    "#建立字典\n",
    "capital ={\n",
    "    \"United States\":\"Washington DC\",\n",
    "    \"Japen\":\"Tokyo\",\n",
    "    \"France\":\"Paris\"\n",
    "}\n",
    "#get()取得鍵值對\n",
    "print(capital.get(\"Japen\"))\n",
    "#update()加入\n",
    "capital.update({\"Germany\":\"Berlin\"})\n",
    "#pop()刪除\n",
    "capital.pop(\"France\")\n",
    "print(capital)\n",
    "#value()獲得所有值\n",
    "print(capital.values())\n",
    "#item()獲得所有鍵值對\n",
    "print(capital.items())"
   ]
  },
  {
   "cell_type": "code",
   "execution_count": null,
   "id": "fc38a372",
   "metadata": {},
   "outputs": [],
   "source": []
  }
 ],
 "metadata": {
  "kernelspec": {
   "display_name": "Python 3 (ipykernel)",
   "language": "python",
   "name": "python3"
  },
  "language_info": {
   "codemirror_mode": {
    "name": "ipython",
    "version": 3
   },
   "file_extension": ".py",
   "mimetype": "text/x-python",
   "name": "python",
   "nbconvert_exporter": "python",
   "pygments_lexer": "ipython3",
   "version": "3.9.12"
  }
 },
 "nbformat": 4,
 "nbformat_minor": 5
}
