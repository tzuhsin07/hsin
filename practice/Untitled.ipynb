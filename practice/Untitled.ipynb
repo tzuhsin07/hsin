{
 "cells": [
  {
   "cell_type": "markdown",
   "id": "7f9c5706",
   "metadata": {},
   "source": [
    "FOR 迴圈使用"
   ]
  },
  {
   "cell_type": "code",
   "execution_count": 9,
   "id": "7040c865",
   "metadata": {},
   "outputs": [
    {
     "name": "stdout",
     "output_type": "stream",
     "text": [
      "10\n",
      "9\n",
      "8\n",
      "7\n",
      "6\n",
      "5\n",
      "4\n",
      "3\n",
      "2\n",
      "1\n",
      "1\n",
      "2\n",
      "3\n",
      "4\n",
      "-\n",
      "5\n",
      "6\n",
      "7\n",
      "8\n",
      "-\n",
      "0\n",
      "1\n",
      "2\n",
      "-\n",
      "1\n",
      "2\n",
      "3\n",
      "4\n",
      "1\n",
      "2\n",
      "3\n",
      "4\n",
      "-\n",
      "5\n",
      "6\n",
      "7\n",
      "8\n",
      "-\n"
     ]
    }
   ],
   "source": [
    "#Range使用 \n",
    "for y in reversed(range(1,11)):#倒數\n",
    "    print(y)\n",
    "#break,continue使用\n",
    "credit_card=\"1234-5678-9012-1234\"\n",
    "for w in credit_card:\n",
    "    if w==\"9\":\n",
    "        continue #9會消失\n",
    "    else:\n",
    "        print(w)\n",
    "for z in credit_card:\n",
    "    if z==\"9\":\n",
    "        break #9以後終止迴圈\n",
    "    else:\n",
    "        print(z)"
   ]
  },
  {
   "cell_type": "code",
   "execution_count": 13,
   "id": "068c35c5",
   "metadata": {},
   "outputs": [
    {
     "name": "stdout",
     "output_type": "stream",
     "text": [
      "a\n",
      "b\n",
      "c\n",
      "key: a\n",
      "value: 1\n",
      "key: b\n",
      "value: 2\n",
      "key: c\n",
      "value: 3\n"
     ]
    }
   ],
   "source": [
    "#字典({\"key\":value})應用\n",
    "dict={\"a\":1,\"b\":2,\"c\":3}\n",
    "for x in dict:\n",
    "    print(x)#只出現key\n",
    "for key,value in dict.items():\n",
    "    print(\"key:\",key)\n",
    "    print(\"value:\",value)\n",
    "    "
   ]
  },
  {
   "cell_type": "markdown",
   "id": "2c3c8d88",
   "metadata": {},
   "source": [
    "巢狀迴圈"
   ]
  },
  {
   "cell_type": "code",
   "execution_count": 19,
   "id": "831f9da4",
   "metadata": {},
   "outputs": [
    {
     "name": "stdout",
     "output_type": "stream",
     "text": [
      "1 11 輸入行數:3\n",
      "輸入列數:4\n",
      "輸入符號:$\n",
      "$ $ $ $ \n",
      "$ $ $ $ \n",
      "$ $ $ $ \n"
     ]
    }
   ],
   "source": [
    "for x in (1,11):\n",
    "    print(x,end=\" \") #print結尾用空格取代換行\n",
    "#巢狀迴圈應用\n",
    "rows=int(input(\"輸入行數:\"))\n",
    "cols=int(input(\"輸入列數:\"))\n",
    "symbol=input(\"輸入符號:\")\n",
    "\n",
    "for z in range(rows):\n",
    "    for i in range(cols):\n",
    "        print(symbol,end=\" \")\n",
    "    print()"
   ]
  },
  {
   "cell_type": "code",
   "execution_count": null,
   "id": "14b1817a",
   "metadata": {},
   "outputs": [],
   "source": []
  },
  {
   "cell_type": "code",
   "execution_count": null,
   "id": "8fc82702",
   "metadata": {},
   "outputs": [],
   "source": []
  }
 ],
 "metadata": {
  "kernelspec": {
   "display_name": "Python 3 (ipykernel)",
   "language": "python",
   "name": "python3"
  },
  "language_info": {
   "codemirror_mode": {
    "name": "ipython",
    "version": 3
   },
   "file_extension": ".py",
   "mimetype": "text/x-python",
   "name": "python",
   "nbconvert_exporter": "python",
   "pygments_lexer": "ipython3",
   "version": "3.9.12"
  }
 },
 "nbformat": 4,
 "nbformat_minor": 5
}
