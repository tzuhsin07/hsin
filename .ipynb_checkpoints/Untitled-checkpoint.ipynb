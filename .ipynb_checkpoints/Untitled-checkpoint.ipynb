{
 "cells": [
  {
   "cell_type": "code",
   "execution_count": 2,
   "id": "ea2c17b4",
   "metadata": {},
   "outputs": [
    {
     "name": "stdout",
     "output_type": "stream",
     "text": [
      "   排名 Spotify 2022 台灣最多串流收聽次數歌手\n",
      "0   1                       周杰倫\n",
      "1   2                 BTS 防彈少年團\n",
      "2   3                       告五人\n",
      "3   4             Justin Bieber\n",
      "4   5                       周興哲\n",
      "5   6              Taylor Swift\n",
      "6   7                Ed Sheeran\n",
      "7   8                       鄧紫棋\n",
      "8   9                       茄子蛋\n",
      "9  10                       韋禮安\n"
     ]
    }
   ],
   "source": [
    "import pandas as pd\n",
    "#CSV with Pandas\n",
    "#2022 Spotify 2022 台灣最多串流收聽次數歌手\n",
    "\n",
    "data1=pd.read_csv(\"data1.csv\")\n",
    "print(data1)"
   ]
  },
  {
   "cell_type": "code",
   "execution_count": 3,
   "id": "036e3cbc",
   "metadata": {},
   "outputs": [
    {
     "name": "stdout",
     "output_type": "stream",
     "text": [
      "   排名 Spotify 2022 台灣最多串流收聽次數女歌手\n",
      "0   1               Taylor Swift\n",
      "1   2                        鄧紫棋\n",
      "2   3                        張惠妹\n",
      "3   4                        蔡健雅\n",
      "4   5                        梁靜茹\n",
      "5   6                        蔡依林\n",
      "6   7                         任然\n",
      "7   8                        陳忻玥\n",
      "8   9                        徐佳瑩\n",
      "9  10                      A-Lin\n"
     ]
    }
   ],
   "source": [
    "#2022 Spotify 2022 台灣最多串流收聽次數女歌手\n",
    "data2=pd.read_csv(\"data2.csv\")\n",
    "print(data2)"
   ]
  },
  {
   "cell_type": "code",
   "execution_count": 4,
   "id": "1c5fb6b2",
   "metadata": {},
   "outputs": [
    {
     "name": "stdout",
     "output_type": "stream",
     "text": [
      "   排名 Spotify 2022 台灣最多串流收聽次數男歌手\n",
      "0   1                        周杰倫\n",
      "1   2              Justin Bieber\n",
      "2   3                        周興哲\n",
      "3   4                 Ed Sheeran\n",
      "4   5                        韋禮安\n",
      "5   6                        林俊傑\n",
      "6   7                        陳奕迅\n",
      "7   8                        高爾宣\n",
      "8   9                    瘦子 E.SO\n",
      "9  10               Charlie Puth\n"
     ]
    }
   ],
   "source": [
    "#2022 Spotify 2022 台灣最多串流收聽男歌手\n",
    "data3=pd.read_csv(\"data3.csv\")\n",
    "print(data3)"
   ]
  },
  {
   "cell_type": "code",
   "execution_count": 5,
   "id": "4e96fe08",
   "metadata": {},
   "outputs": [
    {
     "name": "stdout",
     "output_type": "stream",
     "text": [
      "{'BTS 防彈少年團', '鄧紫棋', '周杰倫', '韋禮安', 'Justin Bieber', '周興哲', '茄子蛋', 'Taylor Swift', '告五人', 'Ed Sheeran'}\n",
      "{'蔡依林', '鄧紫棋', '張惠妹', '陳忻玥', '蔡健雅', 'A-Lin', '徐佳瑩', '任然', 'Taylor Swift', '梁靜茹'}\n",
      "{'Taylor Swift', '鄧紫棋'}\n",
      "{'BTS 防彈少年團', '鄧紫棋', '陳忻玥', '周杰倫', '蔡健雅', '周興哲', '茄子蛋', '徐佳瑩', '蔡依林', '張惠妹', '梁靜茹', '韋禮安', 'Justin Bieber', 'A-Lin', '任然', 'Taylor Swift', '告五人', 'Ed Sheeran'}\n",
      "{'BTS 防彈少年團', '周杰倫', '韋禮安', 'Justin Bieber', '周興哲', '茄子蛋', '告五人', 'Ed Sheeran'}\n"
     ]
    }
   ],
   "source": [
    "#建立set\n",
    "setdata1=set(data1[\"Spotify 2022 台灣最多串流收聽次數歌手\"])\n",
    "print(setdata1)\n",
    "setdata2=set(data2[\"Spotify 2022 台灣最多串流收聽次數女歌手\"])\n",
    "print(setdata2)\n",
    "\n",
    "#Data1&Data2的交集\n",
    "print(setdata1&setdata2)\n",
    "\n",
    "#Data1&Data2的聯集\n",
    "print(setdata1|setdata2)\n",
    "\n",
    "#Data1&Data2的差集\n",
    "print(setdata1-(setdata1&setdata2))"
   ]
  },
  {
   "cell_type": "code",
   "execution_count": null,
   "id": "658ac049",
   "metadata": {},
   "outputs": [],
   "source": []
  }
 ],
 "metadata": {
  "kernelspec": {
   "display_name": "Python 3 (ipykernel)",
   "language": "python",
   "name": "python3"
  },
  "language_info": {
   "codemirror_mode": {
    "name": "ipython",
    "version": 3
   },
   "file_extension": ".py",
   "mimetype": "text/x-python",
   "name": "python",
   "nbconvert_exporter": "python",
   "pygments_lexer": "ipython3",
   "version": "3.9.12"
  }
 },
 "nbformat": 4,
 "nbformat_minor": 5
}
