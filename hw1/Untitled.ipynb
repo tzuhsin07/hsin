{
 "cells": [
  {
   "cell_type": "code",
   "execution_count": 6,
   "id": "acb2ea5a",
   "metadata": {
    "scrolled": true
   },
   "outputs": [
    {
     "name": "stdout",
     "output_type": "stream",
     "text": [
      "        UID       個案研判日 縣市別  區域  新增確診人數    total  七天移動平均新增確診人數\n",
      "0     29546  2022-12-31  全國  全區   25382  8872579      24757.14\n",
      "1     29912  2022-12-30  全國  全區   25751  8847197      23662.86\n",
      "2     30284  2022-12-29  全國  全區   27378  8821446      22563.71\n",
      "3     30657  2022-12-28  全國  全區   27921  8794068      21376.14\n",
      "4     31027  2022-12-27  全國  全區   28150  8766147      20226.86\n",
      "..      ...         ...  ..  ..     ...      ...           ...\n",
      "360  129827  2022-01-05  全國  全區      42    17196         29.86\n",
      "361  129837  2022-01-04  全國  全區      28    17154         27.14\n",
      "362  129845  2022-01-03  全國  全區      31    17126         25.14\n",
      "363  129850  2022-01-02  全國  全區      26    17095         23.43\n",
      "364  129855  2022-01-01  全國  全區      19    17069         22.00\n",
      "\n",
      "[365 rows x 7 columns]\n"
     ]
    }
   ],
   "source": [
    "import pandas as pd\n",
    "covid=pd.read_csv(\"covid.csv\")\n",
    "print(covid)"
   ]
  },
  {
   "cell_type": "markdown",
   "id": "9581b47f",
   "metadata": {},
   "source": [
    "# Q1 2022年哪幾天新增確診人數超過10000人"
   ]
  }
 ],
 "metadata": {
  "kernelspec": {
   "display_name": "Python 3 (ipykernel)",
   "language": "python",
   "name": "python3"
  },
  "language_info": {
   "codemirror_mode": {
    "name": "ipython",
    "version": 3
   },
   "file_extension": ".py",
   "mimetype": "text/x-python",
   "name": "python",
   "nbconvert_exporter": "python",
   "pygments_lexer": "ipython3",
   "version": "3.9.12"
  }
 },
 "nbformat": 4,
 "nbformat_minor": 5
}
