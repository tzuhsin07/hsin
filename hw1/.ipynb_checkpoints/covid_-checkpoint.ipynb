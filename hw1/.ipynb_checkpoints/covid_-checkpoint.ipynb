{
 "cells": [
  {
   "cell_type": "code",
   "execution_count": 15,
   "id": "ce584931",
   "metadata": {},
   "outputs": [
    {
     "name": "stdout",
     "output_type": "stream",
     "text": [
      "        UID       個案研判日 縣市別  區域  新增確診人數    total  七天移動平均新增確診人數\n",
      "0     29546  2022-12-31  全國  全區   25382  8872579      24757.14\n",
      "1     29912  2022-12-30  全國  全區   25751  8847197      23662.86\n",
      "2     30284  2022-12-29  全國  全區   27378  8821446      22563.71\n",
      "3     30657  2022-12-28  全國  全區   27921  8794068      21376.14\n",
      "4     31027  2022-12-27  全國  全區   28150  8766147      20226.86\n",
      "..      ...         ...  ..  ..     ...      ...           ...\n",
      "360  129827  2022-01-05  全國  全區      42    17196         29.86\n",
      "361  129837  2022-01-04  全國  全區      28    17154         27.14\n",
      "362  129845  2022-01-03  全國  全區      31    17126         25.14\n",
      "363  129850  2022-01-02  全國  全區      26    17095         23.43\n",
      "364  129855  2022-01-01  全國  全區      19    17069         22.00\n",
      "\n",
      "[365 rows x 7 columns]\n"
     ]
    }
   ],
   "source": [
    "import pandas as pd\n",
    "# 顯示資料\n",
    "data=pd.read_csv(\"covid.csv\")\n",
    "print(data)"
   ]
  },
  {
   "cell_type": "code",
   "execution_count": 16,
   "id": "0821d2f0",
   "metadata": {},
   "outputs": [
    {
     "name": "stdout",
     "output_type": "stream",
     "text": [
      "12月總確診人數: 543674\n",
      "11月總確診人數: 582064\n",
      "10月總確診人數: 1242594\n",
      "9月總確診人數: 1162520\n",
      "8月總確診人數: 737371\n",
      "7月總確診人數: 801785\n",
      "6月總確診人數: 1682050\n",
      "5月總確診人數: 1987649\n",
      "4月總確診人數: 109327\n",
      "3月總確診人數: 3019\n",
      "2月總確診人數: 1685\n",
      "1月總確診人數: 1791\n"
     ]
    }
   ],
   "source": [
    "import pandas as pd\n",
    "#找出每日確診人數\n",
    "data=pd.read_csv(\"covid.csv\")\n",
    "person=data['新增確診人數']\n",
    "\n",
    "#總和每月確診人數\n",
    "df12=person[:31] #12月\n",
    "column_sums12 = df12.sum()\n",
    "print(\"12月總確診人數:\",column_sums12)\n",
    "\n",
    "df11=person[31:61] #11月\n",
    "column_sums11 = df11.sum()\n",
    "print(\"11月總確診人數:\",column_sums11)\n",
    "\n",
    "\n",
    "df10=person[61:92] #10月\n",
    "column_sums10 = df10.sum()\n",
    "print(\"10月總確診人數:\",column_sums10)\n",
    "\n",
    "df9=person[92:122] #9月\n",
    "column_sums9 = df9.sum()\n",
    "print(\"9月總確診人數:\",column_sums9)\n",
    "\n",
    "df8=person[122:153] #8月\n",
    "column_sums8 = df8.sum()\n",
    "print(\"8月總確診人數:\",column_sums8)\n",
    "\n",
    "df7=person[153:184] #7月\n",
    "column_sums7 = df7.sum()\n",
    "print(\"7月總確診人數:\",column_sums7)\n",
    "\n",
    "df6=person[184:214] #6月\n",
    "column_sums6 = df6.sum()\n",
    "print(\"6月總確診人數:\",column_sums6)\n",
    "\n",
    "df5=person[214:245] #5月\n",
    "column_sums5 = df5.sum()\n",
    "print(\"5月總確診人數:\",column_sums5)\n",
    "\n",
    "df4=person[245:275] #4月\n",
    "column_sums4 = df4.sum()\n",
    "print(\"4月總確診人數:\",column_sums4)\n",
    "\n",
    "df3=person[275:306] #3月\n",
    "column_sums3 = df3.sum()\n",
    "print(\"3月總確診人數:\",column_sums3)\n",
    "\n",
    "df2=person[306:334] #2月\n",
    "column_sums2 = df2.sum()\n",
    "print(\"2月總確診人數:\",column_sums2)\n",
    "\n",
    "df1=person[334:367] #1月\n",
    "column_sums1 = df1.sum()\n",
    "print(\"1月總確診人數:\",column_sums1)\n"
   ]
  },
  {
   "cell_type": "code",
   "execution_count": 17,
   "id": "4b5f5152",
   "metadata": {},
   "outputs": [],
   "source": [
    "import csv\n",
    "#寫入檔案\n",
    "with open(\"covidmonth2.csv\",mode=\"w\",newline=\"\") as file:\n",
    "    writer=csv.writer(file)\n",
    "    writer.writerow([\"month\",\"Number of people\"])\n",
    "    writer.writerow([\"January\",1791])\n",
    "    writer.writerow([\"February\",543674])\n",
    "    writer.writerow([\"March\",582064])\n",
    "    writer.writerow([\"April\",1242594])\n",
    "    writer.writerow([\"May\",1162520])\n",
    "    writer.writerow([\"June\",737371])\n",
    "    writer.writerow([\"July\",801785])\n",
    "    writer.writerow([\"August\",1682050])\n",
    "    writer.writerow([\"September\",1987649])\n",
    "    writer.writerow([\"October\",109327])\n",
    "    writer.writerow([\"November\",3019])\n",
    "    writer.writerow([\"December\",1685])"
   ]
  },
  {
   "cell_type": "code",
   "execution_count": 18,
   "id": "90209045",
   "metadata": {},
   "outputs": [
    {
     "name": "stdout",
     "output_type": "stream",
     "text": [
      "        month  Number of people\n",
      "0     January              1791\n",
      "1    February            543674\n",
      "2       March            582064\n",
      "3       April           1242594\n",
      "4         May           1162520\n",
      "5        June            737371\n",
      "6        July            801785\n",
      "7      August           1682050\n",
      "8   September           1987649\n",
      "9     October            109327\n",
      "10   November              3019\n",
      "11   December              1685\n"
     ]
    }
   ],
   "source": [
    "import pandas as pd\n",
    "da=pd.read_csv(\"covidmonth2.csv\")\n",
    "print(da)"
   ]
  },
  {
   "cell_type": "code",
   "execution_count": 19,
   "id": "d82341b1",
   "metadata": {},
   "outputs": [
    {
     "name": "stdout",
     "output_type": "stream",
     "text": [
      "Requirement already satisfied: matplotlib in c:\\users\\user\\.ms-ad\\lib\\site-packages (3.5.1)\n",
      "Requirement already satisfied: numpy>=1.17 in c:\\users\\user\\.ms-ad\\lib\\site-packages (from matplotlib) (1.21.5)\n",
      "Requirement already satisfied: fonttools>=4.22.0 in c:\\users\\user\\.ms-ad\\lib\\site-packages (from matplotlib) (4.25.0)\n",
      "Requirement already satisfied: pillow>=6.2.0 in c:\\users\\user\\.ms-ad\\lib\\site-packages (from matplotlib) (9.0.1)\n",
      "Requirement already satisfied: python-dateutil>=2.7 in c:\\users\\user\\.ms-ad\\lib\\site-packages (from matplotlib) (2.8.2)\n",
      "Requirement already satisfied: kiwisolver>=1.0.1 in c:\\users\\user\\.ms-ad\\lib\\site-packages (from matplotlib) (1.3.2)\n",
      "Requirement already satisfied: cycler>=0.10 in c:\\users\\user\\.ms-ad\\lib\\site-packages (from matplotlib) (0.11.0)\n",
      "Requirement already satisfied: packaging>=20.0 in c:\\users\\user\\.ms-ad\\lib\\site-packages (from matplotlib) (21.3)\n",
      "Requirement already satisfied: pyparsing>=2.2.1 in c:\\users\\user\\.ms-ad\\lib\\site-packages (from matplotlib) (3.0.4)\n",
      "Requirement already satisfied: six>=1.5 in c:\\users\\user\\.ms-ad\\lib\\site-packages (from python-dateutil>=2.7->matplotlib) (1.16.0)\n",
      "Note: you may need to restart the kernel to use updated packages.\n"
     ]
    }
   ],
   "source": [
    "pip install matplotlib"
   ]
  },
  {
   "cell_type": "code",
   "execution_count": 20,
   "id": "c4adb84c",
   "metadata": {},
   "outputs": [
    {
     "name": "stdout",
     "output_type": "stream",
     "text": [
      "['January', 'February', 'March', 'April', 'May', 'June', 'July', 'August', 'September', 'October', 'November', 'December']\n",
      "[1791, 543674, 582064, 1242594, 1162520, 737371, 801785, 1682050, 1987649, 109327, 3019, 1685]\n"
     ]
    }
   ],
   "source": [
    "import matplotlib.pyplot as plt\n",
    "x=list(da[\"month\"])\n",
    "y=list(da[\"Number of people\"])\n",
    "print(x)\n",
    "print(y)"
   ]
  },
  {
   "cell_type": "code",
   "execution_count": 21,
   "id": "87f90dab",
   "metadata": {},
   "outputs": [
    {
     "data": {
      "image/png": "[encoded data removed]",
      "text/plain": [
       "<Figure size 432x288 with 1 Axes>"
      ]
     },
     "metadata": {
      "needs_background": "light"
     },
     "output_type": "display_data"
    }
   ],
   "source": [
    "import matplotlib.ticker as ticker  # ticker模塊\n",
    "\n",
    "plt.gca().yaxis.set_major_formatter(ticker.StrMethodFormatter('{x:,.0f}'))  # 格式化為整數，逗號分隔\n",
    "plt.plot(x,y)\n",
    "plt.show()"
   ]
  },
  {
   "cell_type": "code",
   "execution_count": 22,
   "id": "62434c7e",
   "metadata": {},
   "outputs": [
    {
     "name": "stdout",
     "output_type": "stream",
     "text": [
      "         UID       個案死亡日  縣市別   區域  新增死亡人數  累計死亡人數  七天移動平均新增死亡人數\n",
      "0        NaN         NaN  NaN  NaN     NaN     NaN           NaN\n",
      "1        NaN         NaN  NaN  NaN     NaN     NaN           NaN\n",
      "2        NaN         NaN  NaN  NaN     NaN     NaN           NaN\n",
      "3        NaN         NaN  NaN  NaN     NaN     NaN           NaN\n",
      "4        NaN         NaN  NaN  NaN     NaN     NaN           NaN\n",
      "..       ...         ...  ...  ...     ...     ...           ...\n",
      "391  19882.0  2022-02-23   全國   全區     1.0   785.0          0.14\n",
      "392  19885.0  2022-02-04   全國   全區     1.0   784.0          0.14\n",
      "393      NaN      2月死亡人數  NaN  NaN     2.0     NaN           NaN\n",
      "394  19888.0  2022-01-09   全國   全區     1.0   783.0          0.14\n",
      "395      NaN      1月死亡人數  NaN  NaN     1.0     NaN           NaN\n",
      "\n",
      "[396 rows x 7 columns]\n"
     ]
    }
   ],
   "source": [
    "import pandas as pd\n",
    "dead=pd.read_csv(\"data_death.csv\") #顯示每日死亡人數\n",
    "print(dead)"
   ]
  },
  {
   "cell_type": "code",
   "execution_count": 23,
   "id": "cf63cac0",
   "metadata": {},
   "outputs": [
    {
     "name": "stdout",
     "output_type": "stream",
     "text": [
      "         UID       個案死亡日  縣市別   區域  新增死亡人數\n",
      "123   4674.0  2022-12-31   全國   全區    44.0\n",
      "124   4731.0  2022-12-30   全國   全區    42.0\n",
      "125   4780.0  2022-12-29   全國   全區    27.0\n",
      "126   4820.0  2022-12-28   全國   全區    19.0\n",
      "127   4848.0  2022-12-27   全國   全區    38.0\n",
      "..       ...         ...  ...  ...     ...\n",
      "390      NaN      3月死亡人數  NaN  NaN     0.0\n",
      "391  19882.0  2022-02-23   全國   全區     1.0\n",
      "392  19885.0  2022-02-04   全國   全區     1.0\n",
      "393      NaN      2月死亡人數  NaN  NaN     2.0\n",
      "394  19888.0  2022-01-09   全國   全區     1.0\n",
      "\n",
      "[272 rows x 5 columns]\n"
     ]
    }
   ],
   "source": [
    "d1=dead.iloc[123:-1,:5] \n",
    "print(d1)"
   ]
  },
  {
   "cell_type": "code",
   "execution_count": 24,
   "id": "4a61115e",
   "metadata": {},
   "outputs": [
    {
     "name": "stdout",
     "output_type": "stream",
     "text": [
      "個案死亡日     12月死亡人數\n",
      "縣市別           NaN\n",
      "區域            NaN\n",
      "新增死亡人數      842.0\n",
      "Name: 154, dtype: object\n",
      "個案死亡日     11月死亡人數\n",
      "縣市別           NaN\n",
      "區域            NaN\n",
      "新增死亡人數     1186.0\n",
      "Name: 185, dtype: object\n",
      "個案死亡日     10月死亡人數\n",
      "縣市別           NaN\n",
      "區域            NaN\n",
      "新增死亡人數     1779.0\n",
      "Name: 217, dtype: object\n",
      "個案死亡日     9月死亡人數\n",
      "縣市別          NaN\n",
      "區域           NaN\n",
      "新增死亡人數    1182.0\n",
      "Name: 248, dtype: object\n",
      "個案死亡日     8月死亡人數\n",
      "縣市別          NaN\n",
      "區域           NaN\n",
      "新增死亡人數     851.0\n",
      "Name: 280, dtype: object\n",
      "個案死亡日     7月死亡人數\n",
      "縣市別          NaN\n",
      "區域           NaN\n",
      "新增死亡人數    1763.0\n",
      "Name: 312, dtype: object\n",
      "個案死亡日     6月死亡人數\n",
      "縣市別          NaN\n",
      "區域           NaN\n",
      "新增死亡人數    3659.0\n",
      "Name: 343, dtype: object\n",
      "個案死亡日     5月死亡人數\n",
      "縣市別          NaN\n",
      "區域           NaN\n",
      "新增死亡人數    1971.0\n",
      "Name: 375, dtype: object\n",
      "個案死亡日     4月死亡人數\n",
      "縣市別          NaN\n",
      "區域           NaN\n",
      "新增死亡人數      38.0\n",
      "Name: 389, dtype: object\n",
      "個案死亡日     3月死亡人數\n",
      "縣市別          NaN\n",
      "區域           NaN\n",
      "新增死亡人數       0.0\n",
      "Name: 390, dtype: object\n",
      "個案死亡日     2月死亡人數\n",
      "縣市別          NaN\n",
      "區域           NaN\n",
      "新增死亡人數       2.0\n",
      "Name: 393, dtype: object\n",
      "個案死亡日     1月死亡人數\n",
      "縣市別          NaN\n",
      "區域           NaN\n",
      "新增死亡人數       1.0\n",
      "Name: 395, dtype: object\n"
     ]
    }
   ],
   "source": [
    "m12=dead.iloc[154,1:5]\n",
    "print(m12) #12月總死亡人數\n",
    "m11=dead.iloc[185,1:5]\n",
    "print(m11) #11月總死亡人數\n",
    "m10=dead.iloc[217,1:5]\n",
    "print(m10) #10月總死亡人數\n",
    "m9=dead.iloc[248,1:5]\n",
    "print(m9) #9月總死亡人數\n",
    "m8=dead.iloc[280,1:5]\n",
    "print(m8) #8月總死亡人數\n",
    "m7=dead.iloc[312,1:5]\n",
    "print(m7) #7月總死亡人數\n",
    "m6=dead.iloc[343,1:5]\n",
    "print(m6) #6月總死亡人數\n",
    "m5=dead.iloc[375,1:5]\n",
    "print(m5) #5月總死亡人數\n",
    "m4=dead.iloc[389,1:5]\n",
    "print(m4) #4月總死亡人數\n",
    "m3=dead.iloc[390,1:5]\n",
    "print(m3) #3月總死亡人數\n",
    "m2=dead.iloc[393,1:5]\n",
    "print(m2) #2月總死亡人數\n",
    "m1=dead.iloc[395,1:5]\n",
    "print(m1) #1月總死亡人數"
   ]
  },
  {
   "cell_type": "code",
   "execution_count": 25,
   "id": "3dae4421",
   "metadata": {
    "scrolled": true
   },
   "outputs": [
    {
     "data": {
      "image/png": "[encoded data removed]",
      "text/plain": [
       "<Figure size 432x288 with 1 Axes>"
      ]
     },
     "metadata": {
      "needs_background": "light"
     },
     "output_type": "display_data"
    }
   ],
   "source": [
    "import matplotlib.pyplot as plt\n",
    "x1 = [1, 2, 3, 4, 5,6,7,8,9,10,11,12]  # x軸數據\n",
    "y1 = [1, 2, 0, 38, 1971,3659,1763,851,1182,1779,1186,842]  # y軸數據\n",
    "\n",
    "plt.xlabel('month')\n",
    "plt.ylabel('death')\n",
    "plt.plot(x1, y1)\n",
    "plt.show()"
   ]
  },
  {
   "cell_type": "code",
   "execution_count": 3,
   "id": "b10acd93",
   "metadata": {},
   "outputs": [
    {
     "ename": "NameError",
     "evalue": "name 'da' is not defined",
     "output_type": "error",
     "traceback": [
      "\u001b[1;31m---------------------------------------------------------------------------\u001b[0m",
      "\u001b[1;31mNameError\u001b[0m                                 Traceback (most recent call last)",
      "Input \u001b[1;32mIn [3]\u001b[0m, in \u001b[0;36m<cell line: 8>\u001b[1;34m()\u001b[0m\n\u001b[0;32m      5\u001b[0m x \u001b[38;5;241m=\u001b[39m [\u001b[38;5;241m1\u001b[39m, \u001b[38;5;241m2\u001b[39m, \u001b[38;5;241m3\u001b[39m, \u001b[38;5;241m4\u001b[39m, \u001b[38;5;241m5\u001b[39m,\u001b[38;5;241m6\u001b[39m,\u001b[38;5;241m7\u001b[39m,\u001b[38;5;241m8\u001b[39m,\u001b[38;5;241m9\u001b[39m,\u001b[38;5;241m10\u001b[39m,\u001b[38;5;241m11\u001b[39m,\u001b[38;5;241m12\u001b[39m]  \u001b[38;5;66;03m# x軸數據\u001b[39;00m\n\u001b[0;32m      7\u001b[0m \u001b[38;5;66;03m# 第一折線圖的數據\u001b[39;00m\n\u001b[1;32m----> 8\u001b[0m y1\u001b[38;5;241m=\u001b[39m\u001b[38;5;28mlist\u001b[39m(\u001b[43mda\u001b[49m[\u001b[38;5;124m\"\u001b[39m\u001b[38;5;124mNumber of people\u001b[39m\u001b[38;5;124m\"\u001b[39m])\n\u001b[0;32m     11\u001b[0m \u001b[38;5;66;03m# 第二折線圖的數據\u001b[39;00m\n\u001b[0;32m     12\u001b[0m y2 \u001b[38;5;241m=\u001b[39m [\u001b[38;5;241m1\u001b[39m, \u001b[38;5;241m2\u001b[39m, \u001b[38;5;241m0\u001b[39m, \u001b[38;5;241m38\u001b[39m, \u001b[38;5;241m1971\u001b[39m,\u001b[38;5;241m3659\u001b[39m,\u001b[38;5;241m1763\u001b[39m,\u001b[38;5;241m851\u001b[39m,\u001b[38;5;241m1182\u001b[39m,\u001b[38;5;241m1779\u001b[39m,\u001b[38;5;241m1186\u001b[39m,\u001b[38;5;241m842\u001b[39m]\n",
      "\u001b[1;31mNameError\u001b[0m: name 'da' is not defined"
     ]
    }
   ],
   "source": [
    "import matplotlib.pyplot as plt\n",
    "import matplotlib.ticker as ticker\n",
    "\n",
    "\n",
    "x = [1, 2, 3, 4, 5,6,7,8,9,10,11,12]  # x軸數據\n",
    "\n",
    "# 第一折線圖的數據\n",
    "y1=list(da[\"Number of people\"])\n",
    "\n",
    "\n",
    "# 第二折線圖的數據\n",
    "y2 = [1, 2, 0, 38, 1971,3659,1763,851,1182,1779,1186,842]\n",
    "\n",
    "import matplotlib.ticker as ticker  # ticker模塊\n",
    "\n",
    "fig, ax1 = plt.subplots()\n",
    "\n",
    "\n",
    "# 第一折線圖\n",
    "ax1.plot(x, y1, label='confirmed cases', linestyle='-', marker='o', color='blue')\n",
    "ax1.set_ylabel('Number of people')\n",
    "plt.gca().yaxis.set_major_formatter(ticker.StrMethodFormatter('{x:,.0f}'))  # 格式化為整數，逗號分隔\n",
    "# 創建次要y軸\n",
    "ax2 = ax1.twinx()\n",
    "\n",
    "# 第二折線圖\n",
    "ax2.plot(x, y2, label='death', linestyle='--', marker='s', color='red')\n",
    "ax2.set_ylabel('Number of people')\n",
    "plt.gca().yaxis.set_major_formatter(ticker.StrMethodFormatter('{x:,.0f}'))  # 格式化為整數，逗號分隔\n",
    "\n",
    "# 添加圖例\n",
    "fig.legend(loc=\"upper right\")\n",
    "\n",
    "\n",
    "plt.show()\n"
   ]
  },
  {
   "cell_type": "code",
   "execution_count": 2,
   "id": "368a2005",
   "metadata": {},
   "outputs": [
    {
     "ename": "NameError",
     "evalue": "name 'plt' is not defined",
     "output_type": "error",
     "traceback": [
      "\u001b[1;31m---------------------------------------------------------------------------\u001b[0m",
      "\u001b[1;31mNameError\u001b[0m                                 Traceback (most recent call last)",
      "Input \u001b[1;32mIn [2]\u001b[0m, in \u001b[0;36m<cell line: 3>\u001b[1;34m()\u001b[0m\n\u001b[0;32m      1\u001b[0m \u001b[38;5;28;01mimport\u001b[39;00m \u001b[38;5;21;01mmatplotlib\u001b[39;00m\u001b[38;5;21;01m.\u001b[39;00m\u001b[38;5;21;01mticker\u001b[39;00m \u001b[38;5;28;01mas\u001b[39;00m \u001b[38;5;21;01mticker\u001b[39;00m  \u001b[38;5;66;03m# ticker模塊\u001b[39;00m\n\u001b[1;32m----> 3\u001b[0m fig, ax1 \u001b[38;5;241m=\u001b[39m \u001b[43mplt\u001b[49m\u001b[38;5;241m.\u001b[39msubplots()\n\u001b[0;32m      6\u001b[0m \u001b[38;5;66;03m# 第一折線圖\u001b[39;00m\n\u001b[0;32m      7\u001b[0m ax1\u001b[38;5;241m.\u001b[39mplot(x, y1, label\u001b[38;5;241m=\u001b[39m\u001b[38;5;124m'\u001b[39m\u001b[38;5;124mconfirmed cases\u001b[39m\u001b[38;5;124m'\u001b[39m, linestyle\u001b[38;5;241m=\u001b[39m\u001b[38;5;124m'\u001b[39m\u001b[38;5;124m-\u001b[39m\u001b[38;5;124m'\u001b[39m, marker\u001b[38;5;241m=\u001b[39m\u001b[38;5;124m'\u001b[39m\u001b[38;5;124mo\u001b[39m\u001b[38;5;124m'\u001b[39m, color\u001b[38;5;241m=\u001b[39m\u001b[38;5;124m'\u001b[39m\u001b[38;5;124mblue\u001b[39m\u001b[38;5;124m'\u001b[39m)\n",
      "\u001b[1;31mNameError\u001b[0m: name 'plt' is not defined"
     ]
    }
   ],
   "source": [
    "import matplotlib.ticker as ticker  # ticker模塊\n",
    "\n",
    "fig, ax1 = plt.subplots()\n",
    "\n",
    "\n",
    "# 第一折線圖\n",
    "ax1.plot(x, y1, label='confirmed cases', linestyle='-', marker='o', color='blue')\n",
    "ax1.set_ylabel('Number of people')\n",
    "plt.gca().yaxis.set_major_formatter(ticker.StrMethodFormatter('{x:,.0f}'))  # 格式化為整數，逗號分隔\n",
    "# 創建次要y軸\n",
    "ax2 = ax1.twinx()\n",
    "\n",
    "# 第二折線圖\n",
    "ax2.plot(x, y2, label='death', linestyle='--', marker='s', color='red')\n",
    "ax2.set_ylabel('Number of people')\n",
    "plt.gca().yaxis.set_major_formatter(ticker.StrMethodFormatter('{x:,.0f}'))  # 格式化為整數，逗號分隔\n",
    "\n",
    "# 添加圖例\n",
    "fig.legend(loc=\"upper right\")\n",
    "\n",
    "\n",
    "plt.show()\n"
   ]
  },
  {
   "cell_type": "code",
   "execution_count": null,
   "id": "16e3fb4f",
   "metadata": {},
   "outputs": [],
   "source": []
  }
 ],
 "metadata": {
  "kernelspec": {
   "display_name": "Python 3 (ipykernel)",
   "language": "python",
   "name": "python3"
  },
  "language_info": {
   "codemirror_mode": {
    "name": "ipython",
    "version": 3
   },
   "file_extension": ".py",
   "mimetype": "text/x-python",
   "name": "python",
   "nbconvert_exporter": "python",
   "pygments_lexer": "ipython3",
   "version": "3.9.12"
  }
 },
 "nbformat": 4,
 "nbformat_minor": 5
}
