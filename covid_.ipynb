{
 "cells": [
  {
   "cell_type": "code",
   "execution_count": 64,
   "id": "ce584931",
   "metadata": {},
   "outputs": [
    {
     "name": "stdout",
     "output_type": "stream",
     "text": [
      "        UID       個案研判日 縣市別  區域  新增確診人數   累計確診人數  七天移動平均新增確診人數\n",
      "0     29546  2022-12-31  全國  全區   25382  8872579      24757.14\n",
      "1     29912  2022-12-30  全國  全區   25751  8847197      23662.86\n",
      "2     30284  2022-12-29  全國  全區   27378  8821446      22563.71\n",
      "3     30657  2022-12-28  全國  全區   27921  8794068      21376.14\n",
      "4     31027  2022-12-27  全國  全區   28150  8766147      20226.86\n",
      "..      ...         ...  ..  ..     ...      ...           ...\n",
      "360  129827  2022-01-05  全國  全區      42    17196         29.86\n",
      "361  129837  2022-01-04  全國  全區      28    17154         27.14\n",
      "362  129845  2022-01-03  全國  全區      31    17126         25.14\n",
      "363  129850  2022-01-02  全國  全區      26    17095         23.43\n",
      "364  129855  2022-01-01  全國  全區      19    17069         22.00\n",
      "\n",
      "[365 rows x 7 columns]\n"
     ]
    }
   ],
   "source": [
    "import pandas as pd\n",
    "# 顯示資料\n",
    "data=pd.read_csv(\"covid.csv\")\n",
    "print(data)"
   ]
  },
  {
   "cell_type": "code",
   "execution_count": 65,
   "id": "0821d2f0",
   "metadata": {},
   "outputs": [
    {
     "name": "stdout",
     "output_type": "stream",
     "text": [
      "12月總確診人數: 543674\n",
      "11月總確診人數: 582064\n",
      "10月總確診人數: 1242594\n",
      "9月總確診人數: 1162520\n",
      "8月總確診人數: 737371\n",
      "7月總確診人數: 801785\n",
      "6月總確診人數: 1682050\n",
      "5月總確診人數: 1987649\n",
      "4月總確診人數: 109327\n",
      "3月總確診人數: 3019\n",
      "2月總確診人數: 1685\n",
      "1月總確診人數: 1791\n"
     ]
    }
   ],
   "source": [
    "import pandas as pd\n",
    "#找出每日確診人數\n",
    "data=pd.read_csv(\"covid.csv\")\n",
    "person=data['新增確診人數']\n",
    "\n",
    "#總和每月確診人數\n",
    "df12=person[:31] #12月\n",
    "column_sums12 = df12.sum()\n",
    "print(\"12月總確診人數:\",column_sums12)\n",
    "\n",
    "df11=person[31:61] #11月\n",
    "column_sums11 = df11.sum()\n",
    "print(\"11月總確診人數:\",column_sums11)\n",
    "\n",
    "\n",
    "df10=person[61:92] #10月\n",
    "column_sums10 = df10.sum()\n",
    "print(\"10月總確診人數:\",column_sums10)\n",
    "\n",
    "df9=person[92:122] #9月\n",
    "column_sums9 = df9.sum()\n",
    "print(\"9月總確診人數:\",column_sums9)\n",
    "\n",
    "df8=person[122:153] #8月\n",
    "column_sums8 = df8.sum()\n",
    "print(\"8月總確診人數:\",column_sums8)\n",
    "\n",
    "df7=person[153:184] #7月\n",
    "column_sums7 = df7.sum()\n",
    "print(\"7月總確診人數:\",column_sums7)\n",
    "\n",
    "df6=person[184:214] #6月\n",
    "column_sums6 = df6.sum()\n",
    "print(\"6月總確診人數:\",column_sums6)\n",
    "\n",
    "df5=person[214:245] #5月\n",
    "column_sums5 = df5.sum()\n",
    "print(\"5月總確診人數:\",column_sums5)\n",
    "\n",
    "df4=person[245:275] #4月\n",
    "column_sums4 = df4.sum()\n",
    "print(\"4月總確診人數:\",column_sums4)\n",
    "\n",
    "df3=person[275:306] #3月\n",
    "column_sums3 = df3.sum()\n",
    "print(\"3月總確診人數:\",column_sums3)\n",
    "\n",
    "df2=person[306:334] #2月\n",
    "column_sums2 = df2.sum()\n",
    "print(\"2月總確診人數:\",column_sums2)\n",
    "\n",
    "df1=person[334:367] #1月\n",
    "column_sums1 = df1.sum()\n",
    "print(\"1月總確診人數:\",column_sums1)\n"
   ]
  },
  {
   "cell_type": "code",
   "execution_count": 94,
   "id": "6c4a2451",
   "metadata": {},
   "outputs": [
    {
     "name": "stdout",
     "output_type": "stream",
     "text": [
      "1      2022-12-30\n",
      "2      2022-12-29\n",
      "3      2022-12-28\n",
      "4      2022-12-27\n",
      "5      2022-12-26\n",
      "          ...    \n",
      "360    2022-01-05\n",
      "361    2022-01-04\n",
      "362    2022-01-03\n",
      "363    2022-01-02\n",
      "364    2022-01-01\n",
      "Name: 個案研判日, Length: 364, dtype: object\n"
     ]
    }
   ],
   "source": [
    "\n",
    "p=data.iloc[1:365,1]\n",
    "print(p)"
   ]
  },
  {
   "cell_type": "code",
   "execution_count": 97,
   "id": "8d5360ce",
   "metadata": {},
   "outputs": [
    {
     "name": "stdout",
     "output_type": "stream",
     "text": [
      "UID                  29546\n",
      "個案研判日           2022-12-31\n",
      "縣市別                     全國\n",
      "區域                      全區\n",
      "新增確診人數               25382\n",
      "累計確診人數             8872579\n",
      "七天移動平均新增確診人數      24757.14\n",
      "Name: 0, dtype: object\n"
     ]
    }
   ],
   "source": [
    "p1=data.iloc[0]\n",
    "print(p1)"
   ]
  },
  {
   "cell_type": "code",
   "execution_count": 104,
   "id": "8f37888b",
   "metadata": {},
   "outputs": [
    {
     "ename": "NameError",
     "evalue": "name 'January' is not defined",
     "output_type": "error",
     "traceback": [
      "\u001b[1;31m---------------------------------------------------------------------------\u001b[0m",
      "\u001b[1;31mNameError\u001b[0m                                 Traceback (most recent call last)",
      "Input \u001b[1;32mIn [104]\u001b[0m, in \u001b[0;36m<cell line: 2>\u001b[1;34m()\u001b[0m\n\u001b[0;32m      2\u001b[0m \u001b[38;5;28;01mwith\u001b[39;00m \u001b[38;5;28mopen\u001b[39m(\u001b[38;5;124m\"\u001b[39m\u001b[38;5;124mcovidmonth.csv\u001b[39m\u001b[38;5;124m\"\u001b[39m,mode\u001b[38;5;241m=\u001b[39m\u001b[38;5;124m\"\u001b[39m\u001b[38;5;124mw\u001b[39m\u001b[38;5;124m\"\u001b[39m,newline\u001b[38;5;241m=\u001b[39m\u001b[38;5;124m\"\u001b[39m\u001b[38;5;124m\"\u001b[39m) \u001b[38;5;28;01mas\u001b[39;00m file:\n\u001b[0;32m      3\u001b[0m     writer\u001b[38;5;241m=\u001b[39mcsv\u001b[38;5;241m.\u001b[39mwriter(file)\n\u001b[1;32m----> 4\u001b[0m     writer\u001b[38;5;241m.\u001b[39mwriterow([\u001b[38;5;241m0\u001b[39m,\u001b[43mJanuary\u001b[49m,February,March,April,May,June,July,August,September,October,November,December])\n\u001b[0;32m      5\u001b[0m     writer\u001b[38;5;241m.\u001b[39mwriterow([\u001b[38;5;124m\"\u001b[39m\u001b[38;5;124mNumber of people\u001b[39m\u001b[38;5;124m\"\u001b[39m,\u001b[38;5;241m1791\u001b[39m,\u001b[38;5;241m543674\u001b[39m,\u001b[38;5;241m582064\u001b[39m,\u001b[38;5;241m1242594\u001b[39m,\u001b[38;5;241m1162520\u001b[39m,\u001b[38;5;241m737371\u001b[39m,\u001b[38;5;241m801785\u001b[39m,\u001b[38;5;241m1682050\u001b[39m,\u001b[38;5;241m1987649\u001b[39m,\u001b[38;5;241m109327\u001b[39m,\u001b[38;5;241m3019\u001b[39m,\u001b[38;5;241m1685\u001b[39m])\n",
      "\u001b[1;31mNameError\u001b[0m: name 'January' is not defined"
     ]
    }
   ],
   "source": [
    "import csv\n",
    "with open(\"covidmonth.csv\",mode=\"w\",newline=\"\") as file:\n",
    "    writer=csv.writer(file)\n",
    "    writer.writerow([0,\"January\",\"February\",\"March\",\"April\",\"May\",\"June\",July,August,September,October,November,December])\n",
    "    writer.writerow([\"Number of people\",1791,543674,582064,1242594,1162520,737371,801785,1682050,1987649,109327,3019,1685])\n",
    "    "
   ]
  },
  {
   "cell_type": "code",
   "execution_count": 98,
   "id": "b2719c84",
   "metadata": {},
   "outputs": [
    {
     "name": "stdout",
     "output_type": "stream",
     "text": [
      "Requirement already satisfied: matplotlib in c:\\users\\user\\.ms-ad\\lib\\site-packages (3.5.1)\n",
      "Requirement already satisfied: python-dateutil>=2.7 in c:\\users\\user\\.ms-ad\\lib\\site-packages (from matplotlib) (2.8.2)\n",
      "Requirement already satisfied: kiwisolver>=1.0.1 in c:\\users\\user\\.ms-ad\\lib\\site-packages (from matplotlib) (1.3.2)\n",
      "Requirement already satisfied: cycler>=0.10 in c:\\users\\user\\.ms-ad\\lib\\site-packages (from matplotlib) (0.11.0)\n",
      "Requirement already satisfied: fonttools>=4.22.0 in c:\\users\\user\\.ms-ad\\lib\\site-packages (from matplotlib) (4.25.0)\n",
      "Requirement already satisfied: numpy>=1.17 in c:\\users\\user\\.ms-ad\\lib\\site-packages (from matplotlib) (1.21.5)\n",
      "Requirement already satisfied: pyparsing>=2.2.1 in c:\\users\\user\\.ms-ad\\lib\\site-packages (from matplotlib) (3.0.4)\n",
      "Requirement already satisfied: pillow>=6.2.0 in c:\\users\\user\\.ms-ad\\lib\\site-packages (from matplotlib) (9.0.1)\n",
      "Requirement already satisfied: packaging>=20.0 in c:\\users\\user\\.ms-ad\\lib\\site-packages (from matplotlib) (21.3)\n",
      "Requirement already satisfied: six>=1.5 in c:\\users\\user\\.ms-ad\\lib\\site-packages (from python-dateutil>=2.7->matplotlib) (1.16.0)\n",
      "Note: you may need to restart the kernel to use updated packages.\n"
     ]
    }
   ],
   "source": [
    "pip install matplotlib"
   ]
  },
  {
   "cell_type": "code",
   "execution_count": null,
   "id": "1f09d8fc",
   "metadata": {},
   "outputs": [],
   "source": []
  }
 ],
 "metadata": {
  "kernelspec": {
   "display_name": "Python 3 (ipykernel)",
   "language": "python",
   "name": "python3"
  },
  "language_info": {
   "codemirror_mode": {
    "name": "ipython",
    "version": 3
   },
   "file_extension": ".py",
   "mimetype": "text/x-python",
   "name": "python",
   "nbconvert_exporter": "python",
   "pygments_lexer": "ipython3",
   "version": "3.9.12"
  }
 },
 "nbformat": 4,
 "nbformat_minor": 5
}
