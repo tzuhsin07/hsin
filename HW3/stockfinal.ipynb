{
 "cells": [
  {
   "cell_type": "code",
   "execution_count": 1,
   "id": "0374d181",
   "metadata": {},
   "outputs": [
    {
     "name": "stdout",
     "output_type": "stream",
     "text": [
      "輸入想要查詢日期(ex:20231031):20231030\n"
     ]
    },
    {
     "name": "stderr",
     "output_type": "stream",
     "text": [
      "C:\\Users\\USER\\.ms-ad\\lib\\site-packages\\urllib3\\connectionpool.py:1043: InsecureRequestWarning: Unverified HTTPS request is being made to host 'www.twse.com.tw'. Adding certificate verification is strongly advised. See: https://urllib3.readthedocs.io/en/1.26.x/advanced-usage.html#ssl-warnings\n",
      "  warnings.warn(\n"
     ]
    },
    {
     "name": "stdout",
     "output_type": "stream",
     "text": [
      "寫入成功！\n",
      "寫入成功！\n"
     ]
    }
   ],
   "source": [
    "import requests\n",
    "from bs4 import BeautifulSoup\n",
    "import json\n",
    "import pandas as pd\n",
    "\n",
    "header = {\n",
    "    \"User-Agent\":\"Mozilla/5.0 (Windows NT 10.0; Win64; x64) AppleWebKit/537.36 (KHTML, like Gecko) Chrome/118.0.0.0 Safari/537.36\"\n",
    "}\n",
    "date = input(\"輸入想要查詢日期(ex:20231031):\")\n",
    "\n",
    "url = f\"https://www.twse.com.tw/rwd/zh/afterTrading/MI_INDEX?date={date}&type=0099P&response=json&_=1698755576182\"\n",
    "response = requests.get(url,verify=False,headers = header)\n",
    "\n",
    "# print(response.text)\n",
    "\n",
    "res_json = response.json()\n",
    "\n",
    "data_list = []\n",
    "\n",
    "fields = res_json[\"tables\"][8][\"fields\"][:9]\n",
    "data_list.append(fields)\n",
    "    # print(table)\n",
    "for i in range(155):\n",
    "    stock_number = res_json[\"tables\"][8][\"data\"][i][:9]\n",
    "    data_list.append(stock_number)\n",
    "    #     print(stock_number) \n",
    "df = pd.DataFrame(data_list)\n",
    "try:\n",
    "    df.to_excel('stockfinal.data.xlsx', index=False)\n",
    "    print(\"寫入成功！\")\n",
    "except Exception as e:\n",
    "    print(\"寫入失敗:\", e)\n",
    "    \n",
    "try:    \n",
    "    with open(\"stockfinal.json2\", \"w\", encoding=\"utf-8\") as file:\n",
    "        json.dump(data_list, file, ensure_ascii=False, indent=4)\n",
    "        print(\"寫入成功！\")\n",
    "except Exception as s:\n",
    "    print(\"寫入失敗:\", s)"
   ]
  },
  {
   "cell_type": "code",
   "execution_count": null,
   "id": "f0b6a711",
   "metadata": {},
   "outputs": [],
   "source": []
  },
  {
   "cell_type": "code",
   "execution_count": null,
   "id": "e3eca00d",
   "metadata": {},
   "outputs": [],
   "source": []
  }
 ],
 "metadata": {
  "kernelspec": {
   "display_name": "Python 3 (ipykernel)",
   "language": "python",
   "name": "python3"
  },
  "language_info": {
   "codemirror_mode": {
    "name": "ipython",
    "version": 3
   },
   "file_extension": ".py",
   "mimetype": "text/x-python",
   "name": "python",
   "nbconvert_exporter": "python",
   "pygments_lexer": "ipython3",
   "version": "3.9.12"
  }
 },
 "nbformat": 4,
 "nbformat_minor": 5
}
