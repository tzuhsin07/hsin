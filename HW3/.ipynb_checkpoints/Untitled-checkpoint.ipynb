{
 "cells": [
  {
   "cell_type": "code",
   "execution_count": 4,
   "id": "559d03c8",
   "metadata": {},
   "outputs": [
    {
     "name": "stdout",
     "output_type": "stream",
     "text": [
      "輸入想要查詢日期:20231030\n"
     ]
    },
    {
     "name": "stderr",
     "output_type": "stream",
     "text": [
      "C:\\Users\\USER\\.ms-ad\\lib\\site-packages\\urllib3\\connectionpool.py:1043: InsecureRequestWarning: Unverified HTTPS request is being made to host 'www.twse.com.tw'. Adding certificate verification is strongly advised. See: https://urllib3.readthedocs.io/en/1.26.x/advanced-usage.html#ssl-warnings\n",
      "  warnings.warn(\n"
     ]
    },
    {
     "name": "stdout",
     "output_type": "stream",
     "text": [
      "['證券代號', '證券名稱', '成交股數', '成交筆數', '成交金額', '開盤價', '最高價', '最低價']\n",
      "[['0050', '元大台灣50', '9,793,200', '14,083', '1,196,075,934', '122.40', '122.85', '121.75', '122.00', '<p style= color:green>-</p>', '0.30', '121.95', '22', '122.00', '11', '0.00'], ['0051', '元大中型100', '44,615', '197', '3,007,147', '67.55', '67.65', '67.15', '67.25', '<p style= color:green>-</p>', '0.05', '67.40', '1', '67.55', '1', '0.00'], ['0052', '富邦科技', '184,068', '231', '20,940,499', '114.05', '114.20', '113.45', '113.70', '<p style= color:green>-</p>', '0.20', '113.70', '29', '113.95', '31', '0.00'], ['0053', '元大電子', '5,999', '1,002', '392,592', '65.45', '65.65', '65.45', '65.65', '<p> </p>', '0.00', '65.20', '1', '65.65', '10', '0.00'], ['0055', '元大MSCI金融', '139,092', '278', '3,198,475', '23.16', '23.18', '22.96', '22.97', '<p style= color:green>-</p>', '0.19', '22.96', '1', '23.00', '8', '0.00'], ['0056', '元大高股息', '13,844,304', '10,719', '459,535,512', '33.15', '33.31', '33.11', '33.23', '<p style= color:red>+</p>', '0.10', '33.22', '19', '33.23', '63', '0.00'], ['0057', '富邦摩台', '10,000', '1', '893,500', '89.35', '89.35', '89.35', '89.35', '<p style= color:green>-</p>', '0.25', '89.30', '25', '89.50', '25', '0.00'], ['0061', '元大寶滬深', '195,570', '912', '3,358,273', '17.06', '17.29', '17.06', '17.26', '<p style= color:red>+</p>', '0.14', '17.24', '7', '17.26', '5', '0.00'], ['006203', '元大MSCI台灣', '4,879', '854', '287,848', '59.50', '59.50', '58.90', '59.25', '<p style= color:green>-</p>', '0.10', '59.00', '1', '59.30', '8', '0.00']]\n"
     ]
    }
   ],
   "source": [
    "import requests\n",
    "from bs4 import BeautifulSoup\n",
    "\n",
    "\n",
    "header = {\n",
    "    \"User-Agent\":\"Mozilla/5.0 (Windows NT 10.0; Win64; x64) AppleWebKit/537.36 (KHTML, like Gecko) Chrome/118.0.0.0 Safari/537.36\"\n",
    "}\n",
    "date = input(\"輸入想要查詢日期:\")\n",
    "\n",
    "url = f\"https://www.twse.com.tw/rwd/zh/afterTrading/MI_INDEX?date={date}&type=0099P&response=json&_=1698755576182\"\n",
    "response = requests.get(url,verify=False,headers = header)\n",
    "soup = BeautifulSoup(response.text, \"html.parser\")\n",
    "# print(response.text)\n",
    "\n",
    "res_json = response.json()\n",
    "table = res_json[\"tables\"][8][\"fields\"][:8]\n",
    "stock_number = res_json[\"tables\"][8][\"data\"][0:155][:9]\n",
    "print(table)\n",
    "print(stock_number)  "
   ]
  },
  {
   "cell_type": "code",
   "execution_count": null,
   "id": "9ef007a1",
   "metadata": {},
   "outputs": [],
   "source": []
  },
  {
   "cell_type": "code",
   "execution_count": null,
   "id": "e05c70c7",
   "metadata": {},
   "outputs": [],
   "source": []
  }
 ],
 "metadata": {
  "kernelspec": {
   "display_name": "Python 3 (ipykernel)",
   "language": "python",
   "name": "python3"
  },
  "language_info": {
   "codemirror_mode": {
    "name": "ipython",
    "version": 3
   },
   "file_extension": ".py",
   "mimetype": "text/x-python",
   "name": "python",
   "nbconvert_exporter": "python",
   "pygments_lexer": "ipython3",
   "version": "3.9.12"
  }
 },
 "nbformat": 4,
 "nbformat_minor": 5
}
